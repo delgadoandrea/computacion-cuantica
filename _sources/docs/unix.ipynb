{
 "cells": [
  {
   "cell_type": "markdown",
   "id": "a9558baf",
   "metadata": {},
   "source": [
    "(launch/thebe)=\n",
    "# Introduction to the Command Line\n",
    "\n",
    "This module is designed to introduce you to the basic commands and tools needed to run your first scientific computing application. We will start with basic commands to execute in a Unix Shell.\n",
    "\n",
    "The command line is the text-based interface for the computer's operating system as a powerful alternative to the click-pointer interaction. It is a program that takes in commands and passes them on to the computer's operating system to run. For example, through the command line, you can create or delete files and edit their content. The advantage of using the command line is its power. You can run programs, write scripts to automate common tasks, and combine simple commands to handle difficult tasks. By the end of this session, you should be able to navigate, access, and modify files and folders on your computer - all without a mouse!\n",
    "\n",
    "## Command Line Basics\n",
    "\n",
    "In the terminal, the first thing you see is an **$** symbol. This is called a *shell prompt*, and whenever you see it, it means that the terminal or shell is ready to accepy a command. But what is a command? A *command* is a text-based instruction to the computer to perform a specific task. For example, one of the commands you will use on a daily basis is *ls*.\n",
    "\n",
    "When you type *ls*, the command line looks at the directory you are in, and \"lists\" all the files and directories inside of it. You can try it now for yourself!"
   ]
  },
  {
   "cell_type": "code",
   "execution_count": null,
   "id": "42f5e11a",
   "metadata": {},
   "outputs": [],
   "source": [
    "%%bash\n",
    "ls"
   ]
  },
  {
   "cell_type": "markdown",
   "id": "7569e4a5",
   "metadata": {},
   "source": [
    "## Command Line Navigation \n",
    "When using the command line, we refer to folders as *directories*. Files and directories on your computer are organized into a *filesystem*. The *filesystem* is the tree structure organization of the files and directorates in your computer. Think about it as the *Mac Finder* or *Windows Explorer* without the ability to access directories and files with a click. \n",
    "\n",
    "- The top directory in the filesystem is the *root* directory.\n",
    "\n",
    "- In this nested structure, we refer to directories as *parents* and *childs* according to their position in the tree. The top directory is the *parent* of any other file or directory in the system. We are now going to explore a few basic commands to navigate your computer's *filesystem*. \n",
    "\n",
    "The next command we are going to explore is *pwd*. It stands for *print working directory* and it indeed, outputs the name of the directory you are currently in."
   ]
  },
  {
   "cell_type": "code",
   "execution_count": null,
   "id": "b94ab1ef",
   "metadata": {},
   "outputs": [],
   "source": [
    "%%bash\n",
    "pwd"
   ]
  },
  {
   "cell_type": "markdown",
   "id": "309b621d",
   "metadata": {},
   "source": [
    "Our next command is *cd*, which stands for *change directory*."
   ]
  },
  {
   "cell_type": "code",
   "execution_count": null,
   "id": "187464a6",
   "metadata": {},
   "outputs": [],
   "source": [
    "%%bash\n",
    "cd <folder-name>"
   ]
  },
  {
   "cell_type": "markdown",
   "id": "842694d2",
   "metadata": {},
   "source": [
    "*cd* also allows you to navigate deeper into the *filesystem* without having to use it twice. For example, if you want to access *Folder1* inside *FolderA*, you can type"
   ]
  },
  {
   "cell_type": "code",
   "execution_count": null,
   "id": "d7bbdd58",
   "metadata": {},
   "outputs": [],
   "source": [
    "%%bash\n",
    "cd FolderA/Folder1/"
   ]
  },
  {
   "cell_type": "markdown",
   "id": "c009a34e",
   "metadata": {},
   "source": [
    "A useful tip is to use the *tab* key to autocomplete the name of a given file or folder. It will probably won't work on the web browser environment but you can try it on your Unix terminal. Also, let's say you want to access *Folder2* inside *FolderA* while you are already on *Folder1*, you can go back one level by typyng ../"
   ]
  },
  {
   "cell_type": "code",
   "execution_count": null,
   "id": "7177f7b4",
   "metadata": {},
   "outputs": [],
   "source": [
    "%%bash\n",
    "cd ../Folder2/"
   ]
  },
  {
   "cell_type": "markdown",
   "id": "41e3a031",
   "metadata": {},
   "source": [
    "## Editing the filesystem\n",
    "\n",
    "You can create a directory by typing"
   ]
  },
  {
   "cell_type": "code",
   "execution_count": null,
   "id": "270e17a9",
   "metadata": {},
   "outputs": [],
   "source": [
    "%%bash\n",
    "mkdir <your-name>"
   ]
  },
  {
   "cell_type": "markdown",
   "id": "6c99a590",
   "metadata": {},
   "source": [
    "to create a file, you can simply do"
   ]
  },
  {
   "cell_type": "code",
   "execution_count": null,
   "id": "1cdf1abf",
   "metadata": {},
   "outputs": [],
   "source": [
    "%%bash\n",
    "touch <filename>"
   ]
  },
  {
   "cell_type": "markdown",
   "id": "bdb684c8",
   "metadata": {},
   "source": [
    "## Viewing and changing the file system\n",
    "\n",
    "The shell command *cp* is used to copy files or directories. The basic argument structure is *cp source destination*, where the *source* is the file/directory to copy to the *destination* file/directory."
   ]
  },
  {
   "cell_type": "code",
   "execution_count": null,
   "id": "d182f103",
   "metadata": {},
   "outputs": [],
   "source": [
    "%%bash\n",
    "cp file1 file1_copy\n",
    "cp file1 file2 destination_folder"
   ]
  },
  {
   "cell_type": "markdown",
   "id": "98c7ed04",
   "metadata": {},
   "source": [
    "The shell command *mv* is used to move a file into a directory. Use *mv* with the source file as the first argument and the destination directory as the second argument."
   ]
  },
  {
   "cell_type": "code",
   "execution_count": null,
   "id": "e6dbf4ce",
   "metadata": {},
   "outputs": [],
   "source": [
    "%%bash\n",
    "mv file.txt myFolder/"
   ]
  },
  {
   "cell_type": "markdown",
   "id": "0281c286",
   "metadata": {},
   "source": [
    "The shell command *rm* is used to delete files and directories. The *-r* flag deletes a directory and all of its files and directories (*rm -r*)."
   ]
  },
  {
   "cell_type": "code",
   "execution_count": null,
   "id": "b01dda80",
   "metadata": {},
   "outputs": [],
   "source": [
    "%%bash\n",
    "rm -r bad_selfies"
   ]
  },
  {
   "cell_type": "markdown",
   "id": "9c42df33",
   "metadata": {},
   "source": [
    "The shell command *ls* is used to list the contents in a directory. It can be combined with the following command options:\n",
    "- *-a*: lists all contents, including hidden files and directories.\n",
    "- *-l*: lists all contents, in long format.\n",
    "- *-t*: lists all contents, by the time they were last modified.\n",
    "\n",
    "## Command line redirection\n",
    "On a command line, *redirection* is the process of using the input/output of a file or command to use it as an input for another file. Redirection can be done by using the operators *>* and *>>*."
   ]
  },
  {
   "cell_type": "code",
   "execution_count": null,
   "id": "38647282",
   "metadata": {},
   "outputs": [],
   "source": [
    "%%bash\n",
    "ls > directories_list.txt\n",
    "ls >> directories_list.txt"
   ]
  },
  {
   "cell_type": "markdown",
   "id": "e463f1e7",
   "metadata": {},
   "source": [
    "The *>* symbol is used to redirect output by taking the output from the command on the left and passing as input to the file on the right."
   ]
  },
  {
   "cell_type": "code",
   "execution_count": null,
   "id": "b9c15a06",
   "metadata": {},
   "outputs": [],
   "source": [
    "%%bash\n",
    "echo \"Hola\" > hola.txt"
   ]
  },
  {
   "cell_type": "markdown",
   "id": "7b27a1b4",
   "metadata": {},
   "source": [
    "The shell command *cat* displays the contents of one or more files to the terminal."
   ]
  },
  {
   "cell_type": "code",
   "execution_count": null,
   "id": "4cf73d82",
   "metadata": {},
   "outputs": [],
   "source": [
    "%%bash\n",
    "cat poem.txt"
   ]
  },
  {
   "cell_type": "markdown",
   "id": "c6a91ac8",
   "metadata": {},
   "source": [
    "if you just want to print the first or last few lines of a file, you can use *head* or *tail*:"
   ]
  },
  {
   "cell_type": "code",
   "execution_count": null,
   "id": "34fb3a64",
   "metadata": {},
   "outputs": [],
   "source": [
    "%%bash\n",
    "head poem.txt\n",
    "tail poem.txt"
   ]
  },
  {
   "cell_type": "markdown",
   "id": "2d95f742",
   "metadata": {},
   "source": [
    "The *>>* shell command is used to redirect the standard output of the command line on the left and append (add) it to the end of the file on the right."
   ]
  },
  {
   "cell_type": "code",
   "execution_count": null,
   "id": "5524e742",
   "metadata": {},
   "outputs": [],
   "source": [
    "%%bash\n",
    "#This command will append \"Hello World!\" to greetings.txt\n",
    "echo \"Hello World!\" >> greetings.txt"
   ]
  },
  {
   "cell_type": "markdown",
   "id": "bb2c9353",
   "metadata": {},
   "source": [
    "The *|* command is called a *pipe*. It is used to pipe, or transfer, the standard output from the command on its left into the standard input of the command on its right."
   ]
  },
  {
   "cell_type": "code",
   "execution_count": null,
   "id": "9501f249",
   "metadata": {},
   "outputs": [],
   "source": [
    "%%bash\n",
    "# First, echo \"Hello World\" will send Hello World to the standard output.\n",
    "# Next, pipe | will transfer the standard output to the next command's standard input.\n",
    "# Finally, wc -w will count the number of words from its standard input, which is 2.\n",
    "echo \"Hello World\" | wc -w"
   ]
  },
  {
   "cell_type": "markdown",
   "id": "a8273bf3",
   "metadata": {},
   "source": [
    "The shell command *grep* is used to search files for lines that match a pattern and returns the results. Various options can be specified along with the *grep* command to specify the search."
   ]
  },
  {
   "cell_type": "code",
   "execution_count": null,
   "id": "2399a271",
   "metadata": {},
   "outputs": [],
   "source": [
    "%%bash\n",
    "grep 'Andrea' names.txt"
   ]
  },
  {
   "cell_type": "markdown",
   "id": "5a064b49",
   "metadata": {},
   "source": [
    "- The shell *grep* command searches files for a particular pattern. Adding the *-i* option can be used to search files for lines that match a pattern, case sensitive, and returns the results.\n",
    "- The *-R* option searches all files in a directory, including its subdirectories, and outputs filenames and lines containing matched results.\n",
    "\n",
    "Finally, you can run bash code on your terminal, to execute a specific task. For example,"
   ]
  },
  {
   "cell_type": "code",
   "execution_count": null,
   "id": "46cee7c4",
   "metadata": {},
   "outputs": [],
   "source": [
    "%%bash\n",
    "for i in a b c;\n",
    "do\n",
    "echo $i\n",
    "done"
   ]
  }
 ],
 "metadata": {
  "jupytext": {
   "formats": "md:myst",
   "text_representation": {
    "extension": ".md",
    "format_name": "myst",
    "format_version": 0.13,
    "jupytext_version": "1.10.3"
   }
  },
  "kernelspec": {
   "display_name": "Python 3",
   "language": "python",
   "name": "python3"
  },
  "source_map": [
   13,
   28,
   31,
   42,
   45,
   48,
   51,
   55,
   58,
   61,
   64,
   70,
   73,
   76,
   79,
   85,
   89,
   93,
   96,
   100,
   103,
   112,
   116,
   120,
   123,
   127,
   130,
   134,
   138,
   142,
   146,
   150,
   156,
   159,
   162,
   168
  ]
 },
 "nbformat": 4,
 "nbformat_minor": 5
}