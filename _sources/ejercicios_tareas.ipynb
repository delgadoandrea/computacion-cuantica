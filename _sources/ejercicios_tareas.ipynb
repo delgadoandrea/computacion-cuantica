{
 "cells": [
  {
   "cell_type": "markdown",
   "id": "composite-quantity",
   "metadata": {},
   "source": [
    "(ejercicios_tareas)=\n",
    "\n",
    "En esta seccion podras encontrar las tareas asignadas durante el curso, asi como algunos ejercicios.\n",
    "\n",
    "## Tareas y Ejercicios\n",
    "\n",
    "- Tarea 1: Algebra Lineal.\n",
    "- Tarea 2: Estados de Bell, cambio de base, representaciones diagonales.\n",
    "\n",
    "## Notebooks:\n",
    "\n",
    "-  [Compuertas de 1-cubit:](https://github.com/delgadoandrea/NotebooksIntroALaQC/blob/main/Compuertasde1-Cubit.ipynb) En este notebook, exploramos las compuertas de Pauli y Hadamard, que actuan en sistemas de un cubit. El fin de este notebook es explorar el efecto que tienen estas compuertas. Este ejercicio consiste en obtener las tablas de Input/Output para antes y despues de aplicar las diferentes compuertas a un cubit.\n",
    "\n",
    "-  [QAOA Tarea](https://github.com/delgadoandrea/NotebooksIntroALaQC/blob/main/QAOA-Tarea/QAOA.ipynb) El notebook contiene una rutina para calcular la solucion al problema de MaxCut buscando todas las soluciones posibles. Despues, la solucion se codifica en una expresion tipo [QUBO](https://docs.dwavesys.com/docs/latest/c_gs_3.html) y se obtiene una solucion mediante el algoritmo de QAOA. El ejercicio es completar la rutina que implementa el circuito QAOA."
   ]
  }
 ],
 "metadata": {
  "jupytext": {
   "text_representation": {
    "extension": ".md",
    "format_name": "myst"
   }
  },
  "kernelspec": {
   "display_name": "Python 3",
   "language": "python",
   "name": "python3"
  },
  "language_info": {
   "codemirror_mode": {
    "name": "ipython",
    "version": 3
   },
   "file_extension": ".py",
   "mimetype": "text/x-python",
   "name": "python",
   "nbconvert_exporter": "python",
   "pygments_lexer": "ipython3",
   "version": "3.9.5"
  },
  "source_map": [
   10
  ]
 },
 "nbformat": 4,
 "nbformat_minor": 5
}