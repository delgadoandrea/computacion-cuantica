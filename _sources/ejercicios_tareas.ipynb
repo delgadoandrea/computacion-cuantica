{
 "cells": [
  {
   "cell_type": "markdown",
   "id": "unique-completion",
   "metadata": {},
   "source": [
    "(ejercicios_tareas)=\n",
    "\n",
    "En esta seccion podras encontrar las tareas asignadas durante el curso, asi como algunos ejercicios.\n",
    "\n",
    "## Tareas y Ejercicios\n",
    "\n",
    "- Tarea 1: Algebra Lineal.\n",
    "- Tarea 2: Estados de Bell, cambio de base, representaciones diagonales."
   ]
  }
 ],
 "metadata": {
  "jupytext": {
   "text_representation": {
    "extension": ".md",
    "format_name": "myst"
   }
  },
  "kernelspec": {
   "display_name": "Python 3",
   "language": "python",
   "name": "python3"
  },
  "language_info": {
   "codemirror_mode": {
    "name": "ipython",
    "version": 3
   },
   "file_extension": ".py",
   "mimetype": "text/x-python",
   "name": "python",
   "nbconvert_exporter": "python",
   "pygments_lexer": "ipython3",
   "version": "3.9.5"
  },
  "source_map": [
   10
  ]
 },
 "nbformat": 4,
 "nbformat_minor": 5
}