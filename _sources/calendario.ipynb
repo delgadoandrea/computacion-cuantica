{
 "cells": [
  {
   "cell_type": "markdown",
   "id": "excess-african",
   "metadata": {},
   "source": [
    "(calendario)=\n",
    "\n",
    "# Calendario\n",
    "\n",
    "| Semana          | Temas       |   Notebooks Asociados   |   Tarea/Ejercicios |\n",
    "| ---             | ----------- |  ---------------------- | -----------------  |\n",
    "| Julio 18 - 24   |[Un Modelo de Computacion Cuantica](./circuitos_cuanticos.md), [Circuitos](./circuitos_cuanticos/circuitos.md), [Transformaciones Unitarias](./circuitos_cuanticos/transformaciones.md), [Compuertas de 1-cubit](./circuitos_cuanticos/un_cubit.md) | [Compuertas Cuanticas de 1-cubit](https://github.com/delgadoandrea/NotebooksIntroALaQC/blob/main/Compuertasde1-Cubit_2.ipynb)|[Compuertas Cuanticas de 1-cubit - Tarea](https://github.com/delgadoandrea/NotebooksIntroALaQC/blob/main/Compuertasde1-Cubit.ipynb)|\n",
    "|                 |             |                         |                    |"
   ]
  }
 ],
 "metadata": {
  "jupytext": {
   "text_representation": {
    "extension": ".md",
    "format_name": "myst"
   }
  },
  "kernelspec": {
   "display_name": "Python 3",
   "language": "python",
   "name": "python3"
  },
  "language_info": {
   "codemirror_mode": {
    "name": "ipython",
    "version": 3
   },
   "file_extension": ".py",
   "mimetype": "text/x-python",
   "name": "python",
   "nbconvert_exporter": "python",
   "pygments_lexer": "ipython3",
   "version": "3.9.5"
  },
  "source_map": [
   10
  ]
 },
 "nbformat": 4,
 "nbformat_minor": 5
}