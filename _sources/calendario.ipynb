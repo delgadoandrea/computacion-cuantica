{
 "cells": [
  {
   "cell_type": "markdown",
   "id": "documented-compromise",
   "metadata": {},
   "source": [
    "(calendario)=\n",
    "\n",
    "# Calendario\n",
    "\n",
    "| Semana          | Temas       |   Notebooks Asociados   |   Tarea/Ejercicios |\n",
    "| ---             | ----------- |  ---------------------- | -----------------  |\n",
    "| Julio 18 - 25   |[Un Modelo de Computacion Cuantica](./circuitos_cuanticos.md), [Circuitos](./circuitos_cuanticos/circuitos.md), [Transformaciones Unitarias](./circuitos_cuanticos/transformaciones.md), [Compuertas de 1-cubit](./circuitos_cuanticos/un_cubit.md), [Compuertas Control-U](./circuitos_cuanticos/compuertas_control.md), [Compuertas Universales UX](./circuitos_cuanticos/compuertas_universales.md) | [Compuertas Cuanticas de 1-cubit](https://github.com/delgadoandrea/NotebooksIntroALaQC/blob/main/Compuertasde1-Cubit_2.ipynb), [Compuertas de Rotacion](https://github.com/delgadoandrea/NotebooksIntroALaQC/blob/main/compuertas_rotacion.ipynb), [Compuertas Universales UX](https://github.com/delgadoandrea/NotebooksIntroALaQC/blob/main/compuertas_universales.ipynb)|[Compuertas Cuanticas de 1-cubit - Tarea](https://github.com/delgadoandrea/NotebooksIntroALaQC/blob/main/Compuertasde1-Cubit.ipynb)|\n",
    "| Julio 26 - Agosto 1 |[Compuertas aplicadas a estados de multiples cubits](./circuitos_cuanticos/cubits_multiples.md), [Mediciones con Circuitos Cuanticos](./circuitos_cuanticos/mediciones_cuanticas.md) |                         |                    |\n",
    "| Agosto 2 - 8 | [Mediciones con Circuitos Cuanticos](./circuitos_cuanticos/mediciones_cuanticas.md) | | |\n",
    "| Agosto 9 - 15 | [Algoritmo de Deutsch-Josza](https://www.dropbox.com/s/319e5wlehyurq99/AlgoritmoDeutschJozsa.pdf?dl=0) | [DJ-2cubits](https://github.com/delgadoandrea/NotebooksIntroALaQC/blob/main/Deutsch-Jozsa-2cubits.ipynb), [DJ-oraculo-balanceado](https://github.com/delgadoandrea/NotebooksIntroALaQC/blob/main/Deutsch-Josza-balanceado.ipynb), [DJ-Completo](https://github.com/delgadoandrea/NotebooksIntroALaQC/blob/main/Deutsch-Jozsa-demo.ipynb)| |\n",
    "| Agosto 16 - 22 | Algoritmo de Deutsch-Joszsa Generalizado, [Algoritmo de Grover](https://www.dropbox.com/s/igw7966cjtojcxx/AlgoritmodeGrover.pdf?dl=0) | [DJ-Generalizado](https://github.com/delgadoandrea/NotebooksIntroALaQC/blob/main/Deutsch-Joszsa-alternativo.ipynb) [Grover](https://github.com/delgadoandrea/NotebooksIntroALaQC/blob/main/Grovers-demo.ipynb)| | \n",
    "| Agosto 23 - 29 | Algoritmo de Bernstein-Vazirani, [Algoritmo QAOA](https://www.dropbox.com/s/8weqmhxs3eflunb/QAOA.pdf?dl=0) | [Bernstein-Vazirani](https://github.com/delgadoandrea/NotebooksIntroALaQC/blob/main/Bernstein-Vazirani-Algorithm.ipynb), [Circuitos Variacionales](https://github.com/delgadoandrea/NotebooksIntroALaQC/blob/main/CircuitosVariacionales.ipynb), [Algoritmo QAOA](https://github.com/delgadoandrea/NotebooksIntroALaQC/blob/main/QAOA.ipynb) | [QAOA Tarea](https://github.com/delgadoandrea/NotebooksIntroALaQC/blob/main/QAOA-Tarea/QAOA.ipynb) |\n",
    "| Agosto 30 - Septiembre 5 | [Introduccion al Aprendizaje Automatizado](./aprendizaje_automatizado/introduccion.md)| | |"
   ]
  }
 ],
 "metadata": {
  "jupytext": {
   "text_representation": {
    "extension": ".md",
    "format_name": "myst"
   }
  },
  "kernelspec": {
   "display_name": "Python 3",
   "language": "python",
   "name": "python3"
  },
  "language_info": {
   "codemirror_mode": {
    "name": "ipython",
    "version": 3
   },
   "file_extension": ".py",
   "mimetype": "text/x-python",
   "name": "python",
   "nbconvert_exporter": "python",
   "pygments_lexer": "ipython3",
   "version": "3.9.5"
  },
  "source_map": [
   10
  ]
 },
 "nbformat": 4,
 "nbformat_minor": 5
}