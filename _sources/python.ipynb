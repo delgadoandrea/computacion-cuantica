{
 "cells": [
  {
   "cell_type": "markdown",
   "id": "consecutive-manual",
   "metadata": {},
   "source": [
    "(launch/thebe)=\n",
    "# Introduction to Python\n",
    "\n",
    "## Jupyter Notebooks\n",
    "\n",
    "The most popular way to access, modify and run Python scripts is through Jupyter Notebooks. These notebooks have two main types of cells: Code and MarkDown.\n",
    "\n",
    "- A code cell is used to write and execute your code.\n",
    "- A Markdown cell is used to write text descriptions, notes, formulas or include graphics and images. On a Markdown cell, you can format your content by using Markdown, HTML, or LaTex code.\n",
    "\n",
    "To run a given command cell in your Notebook, you can press *CTRL+ENTER*. For example, try the following few lines:"
   ]
  },
  {
   "cell_type": "code",
   "execution_count": 1,
   "id": "spare-authentication",
   "metadata": {},
   "outputs": [
    {
     "name": "stdout",
     "output_type": "stream",
     "text": [
      "Hello World\n",
      "*\n",
      "**\n",
      "***\n",
      "****\n",
      "*****\n",
      "******\n",
      "*******\n",
      "********\n",
      "*********\n",
      "**********\n"
     ]
    }
   ],
   "source": [
    "print(\"Hello World\")\n",
    "str=\"*\"\n",
    "for i in range(10):\n",
    "\tprint(str)\n",
    "\tstr+=\"*\""
   ]
  },
  {
   "cell_type": "markdown",
   "id": "necessary-adjustment",
   "metadata": {},
   "source": [
    "An example of a Markdown cell:"
   ]
  },
  {
   "cell_type": "code",
   "execution_count": 2,
   "id": "hindu-aspect",
   "metadata": {},
   "outputs": [
    {
     "ename": "SyntaxError",
     "evalue": "invalid syntax (<ipython-input-2-54ece157ac7e>, line 1)",
     "output_type": "error",
     "traceback": [
      "\u001b[0;36m  File \u001b[0;32m\"<ipython-input-2-54ece157ac7e>\"\u001b[0;36m, line \u001b[0;32m1\u001b[0m\n\u001b[0;31m    <b> This is the fourth cell.</b>\u001b[0m\n\u001b[0m    ^\u001b[0m\n\u001b[0;31mSyntaxError\u001b[0m\u001b[0;31m:\u001b[0m invalid syntax\n"
     ]
    }
   ],
   "source": [
    "<b> This is the fourth cell.</b>\n",
    "\n",
    "This is also a markdown cell.\n",
    "\n",
    "LaTex is used to show mathematical expressions, formulas, etc. \n",
    "\n",
    "For example, $ x^2 + y ^ 2 = \\frac{4}{9} $, $ \\sum_{i=1}^n (i+2)^{3} $, or $ \\left( \\begin{array}{rr}  1 & 0 & -1 \\\\ 2 & -2 & 0 \\\\ 3 & -1 & -2  \\end{array} \\right) $.\n",
    "\n",
    "<i>By double clicking on this cell, you can see the code.</i> <br> \n",
    "<u>By executing/running this cell, you can see the result content.</u>"
   ]
  },
  {
   "cell_type": "markdown",
   "id": "academic-crisis",
   "metadata": {},
   "source": [
    "## Variables"
   ]
  },
  {
   "cell_type": "code",
   "execution_count": null,
   "id": "subject-alberta",
   "metadata": {},
   "outputs": [],
   "source": [
    "number = 5 # integer\n",
    "real = -3.4 # float\n",
    "\n",
    "name = 'Andrea' # string\n",
    "surname = \"Delgado\" # string\n",
    "\n",
    "boolean1 = True # Boolean \n",
    "boolean2 = False # Boolean "
   ]
  },
  {
   "cell_type": "markdown",
   "id": "recorded-packet",
   "metadata": {},
   "source": [
    "## Strings"
   ]
  },
  {
   "cell_type": "code",
   "execution_count": null,
   "id": "better-aluminum",
   "metadata": {},
   "outputs": [],
   "source": [
    "str1 = \"I am a string\"\n",
    "str2 = 'I am also a string value'\n",
    "\n",
    "# a string can be seen as a list of character (a string with length 1)\n",
    "#    each of them is accessed from 0 to len(str)-1\n",
    "\n",
    "# print the first and last characters of str1\n",
    "print(\"the char at 0 is\",str1[0])\n",
    "print(\"the char at 0 is\",str1[len(str1)-1])\n",
    "\n",
    "# print every character of str1\n",
    "for ch in str1:\n",
    "    print(ch)"
   ]
  },
  {
   "cell_type": "markdown",
   "id": "frequent-chicken",
   "metadata": {},
   "source": [
    "## Arithmetic Operators\n",
    "\n",
    "**Basic Operators**"
   ]
  },
  {
   "cell_type": "code",
   "execution_count": null,
   "id": "ongoing-portland",
   "metadata": {},
   "outputs": [],
   "source": [
    "a = 13\n",
    "b = 5\n",
    "print(\"a =\",a)\n",
    "print(\"b =\",b)\n",
    "print()\n",
    "\n",
    "# basics operators\n",
    "print(\"a + b =\",a+b)\n",
    "print(\"a - b =\",a-b)\n",
    "print(\"a * b =\",a*b)\n",
    "print(\"a / b =\",a/b)"
   ]
  },
  {
   "cell_type": "markdown",
   "id": "independent-southwest",
   "metadata": {},
   "source": [
    "## Objects\n",
    "\n",
    "**Lists**"
   ]
  },
  {
   "cell_type": "code",
   "execution_count": null,
   "id": "equal-faculty",
   "metadata": {},
   "outputs": [],
   "source": [
    "mylist = [10,8,6,4,2] \n",
    "\n",
    "print(mylist)"
   ]
  },
  {
   "cell_type": "markdown",
   "id": "lined-database",
   "metadata": {},
   "source": [
    "**Tuple**"
   ]
  },
  {
   "cell_type": "code",
   "execution_count": null,
   "id": "republican-northwest",
   "metadata": {},
   "outputs": [],
   "source": [
    "# tuple\n",
    "mytuple=(1,4,5,'string') \n",
    "\n",
    "print(mytuple)"
   ]
  },
  {
   "cell_type": "markdown",
   "id": "continuous-revision",
   "metadata": {},
   "source": [
    "**Dictionary**"
   ]
  },
  {
   "cell_type": "code",
   "execution_count": null,
   "id": "french-somerset",
   "metadata": {},
   "outputs": [],
   "source": [
    "mydictionary = {\n",
    "    'name' : \"Andrea\",\n",
    "    'surname':'Delgado',\n",
    "    'age': 29\n",
    "}\n",
    "\n",
    "print(mydictionary)\n",
    "\n",
    "print(mydictionary['surname'])"
   ]
  },
  {
   "cell_type": "markdown",
   "id": "inside-discretion",
   "metadata": {},
   "source": [
    "## Size of an object\n",
    "\n",
    "We use the method \"len()\" that takes an object as the input."
   ]
  },
  {
   "cell_type": "code",
   "execution_count": null,
   "id": "fitted-arrest",
   "metadata": {},
   "outputs": [],
   "source": [
    "# length of a string\n",
    "print(len(\"Andrea Delgado\"))\n",
    "\n",
    "# size of a list\n",
    "print(len([1,2,3,4]))\n",
    "\n",
    "# size of a dictionary\n",
    "mydictionary = { 'name' : \"Andrea\", 'surname':'Delgado', 'age': 29}\n",
    "print(len(mydictionary))"
   ]
  },
  {
   "cell_type": "markdown",
   "id": "eight-bullet",
   "metadata": {},
   "source": [
    "## Loops\n",
    "\n",
    "**While Loop**"
   ]
  },
  {
   "cell_type": "code",
   "execution_count": null,
   "id": "universal-interaction",
   "metadata": {},
   "outputs": [],
   "source": [
    "i = 10\n",
    "while i>0: # while condition(s):\n",
    "    print(i)\n",
    "    i = i - 1   "
   ]
  },
  {
   "cell_type": "markdown",
   "id": "vulnerable-sullivan",
   "metadata": {},
   "source": [
    "**For Loop**"
   ]
  },
  {
   "cell_type": "code",
   "execution_count": null,
   "id": "large-witness",
   "metadata": {},
   "outputs": [],
   "source": [
    "for i in range(10): # i is in [0,1,...,9]\n",
    "    print(i) "
   ]
  },
  {
   "cell_type": "code",
   "execution_count": null,
   "id": "informational-minnesota",
   "metadata": {},
   "outputs": [],
   "source": [
    "for i in range(0,23,4): # i is in [0,4,8,12,16,20]\n",
    "    print(i)"
   ]
  },
  {
   "cell_type": "code",
   "execution_count": null,
   "id": "changing-testimony",
   "metadata": {},
   "outputs": [],
   "source": [
    "for i in range(0,23,4): # i is in [0,4,8,12,16,20]\n",
    "    print(i)"
   ]
  },
  {
   "cell_type": "code",
   "execution_count": null,
   "id": "logical-python",
   "metadata": {},
   "outputs": [],
   "source": [
    "for i in [3,8,-5,11]: \n",
    "    print(i)"
   ]
  },
  {
   "cell_type": "code",
   "execution_count": null,
   "id": "convertible-charlotte",
   "metadata": {},
   "outputs": [],
   "source": [
    "mydictionary = {\n",
    "    'name' : \"Andrea\",\n",
    "    'surname':'Delgado',\n",
    "    'age': 29,\n",
    "}\n",
    "\n",
    "for key in mydictionary:\n",
    "    print(\"key is\",key,\"and its value is\",mydictionary[key])"
   ]
  },
  {
   "cell_type": "markdown",
   "id": "homeless-wrong",
   "metadata": {},
   "source": [
    "**Conditionals**"
   ]
  },
  {
   "cell_type": "code",
   "execution_count": null,
   "id": "defined-egyptian",
   "metadata": {},
   "outputs": [],
   "source": [
    "for a in range(4,7):\n",
    "    \n",
    "    # if condition(s)\n",
    "    if a<5: \n",
    "        print(a,\"is less than 5\")\n",
    "        \n",
    "    # elif conditions(s)\n",
    "    elif a==5: \n",
    "        print(a,\"is equal to 5\")\n",
    "        \n",
    "    # else\n",
    "    else:\n",
    "        print(a,\"is greater than 5\")"
   ]
  },
  {
   "cell_type": "markdown",
   "id": "different-depression",
   "metadata": {},
   "source": [
    "## Logical and Boolean Operators\n",
    "\n",
    "**Logical Operator \"And\"**"
   ]
  },
  {
   "cell_type": "code",
   "execution_count": null,
   "id": "applicable-dating",
   "metadata": {},
   "outputs": [],
   "source": [
    "i = -3\n",
    "j = 4\n",
    "if i<0 and j > 0:  \n",
    "    print(i,\"has minus sign negative AND\",j,\"has plus sign\")"
   ]
  },
  {
   "cell_type": "markdown",
   "id": "distinct-transparency",
   "metadata": {},
   "source": [
    "**Logical Operator \"Or\"**"
   ]
  },
  {
   "cell_type": "code",
   "execution_count": null,
   "id": "figured-vertex",
   "metadata": {},
   "outputs": [],
   "source": [
    "i = -2\n",
    "j = 2\n",
    "if i==2 or j == 2:  \n",
    "    print(\"i OR j is 2: (\",i,\",\",j,\")\")"
   ]
  },
  {
   "cell_type": "markdown",
   "id": "dress-gathering",
   "metadata": {},
   "source": [
    "**Logical Operator \"Not\"**"
   ]
  },
  {
   "cell_type": "code",
   "execution_count": null,
   "id": "stable-secret",
   "metadata": {},
   "outputs": [],
   "source": [
    "i = 3\n",
    "if not (i==2):\n",
    "    print(i,\"is NOT equal to 2\")"
   ]
  },
  {
   "cell_type": "markdown",
   "id": "aggregate-likelihood",
   "metadata": {},
   "source": [
    "**Logical Operator \"Equal To\"**"
   ]
  },
  {
   "cell_type": "code",
   "execution_count": null,
   "id": "damaged-pennsylvania",
   "metadata": {},
   "outputs": [],
   "source": [
    "i = -1\n",
    "if i == -1:\n",
    "    print(i,\"is EQUAL TO -1\")"
   ]
  },
  {
   "cell_type": "markdown",
   "id": "innocent-night",
   "metadata": {},
   "source": [
    "**Logical Operator \"Not Equal To\"**"
   ]
  },
  {
   "cell_type": "code",
   "execution_count": null,
   "id": "incomplete-cargo",
   "metadata": {},
   "outputs": [],
   "source": [
    "i = 4\n",
    "if i != 3:\n",
    "    print(i,\"is NOT EQUAL TO 3\")"
   ]
  },
  {
   "cell_type": "markdown",
   "id": "reported-sperm",
   "metadata": {},
   "source": [
    "**Logical Operator \"Less than or equal to\"**"
   ]
  },
  {
   "cell_type": "code",
   "execution_count": null,
   "id": "conditional-nylon",
   "metadata": {},
   "outputs": [],
   "source": [
    "i = 2\n",
    "if i <= 5:\n",
    "    print(i,\"is LESS THAN OR EQUAL TO 5\")"
   ]
  },
  {
   "cell_type": "markdown",
   "id": "angry-luther",
   "metadata": {},
   "source": [
    "## List Operations\n",
    "\n",
    "**Concatenation of two lists**"
   ]
  },
  {
   "cell_type": "code",
   "execution_count": null,
   "id": "becoming-millennium",
   "metadata": {},
   "outputs": [],
   "source": [
    "list1 = [1,2,3]\n",
    "list2 = [4,5,6]\n",
    "\n",
    "#concatenation of two lists\n",
    "\n",
    "list3 = list1 + list2\n",
    "print(list3)\n",
    "\n",
    "list4 = list2 + list1\n",
    "print(list4)"
   ]
  },
  {
   "cell_type": "markdown",
   "id": "meaning-spank",
   "metadata": {},
   "source": [
    "**Apending a new element**"
   ]
  },
  {
   "cell_type": "code",
   "execution_count": null,
   "id": "objective-enforcement",
   "metadata": {},
   "outputs": [],
   "source": [
    "list = [0,1,2]\n",
    "\n",
    "list.append(3)\n",
    "print(list)\n",
    "\n",
    "list = list + [4]\n",
    "print(list)"
   ]
  },
  {
   "cell_type": "markdown",
   "id": "spectacular-colorado",
   "metadata": {},
   "source": [
    "## Functions"
   ]
  },
  {
   "cell_type": "code",
   "execution_count": null,
   "id": "designed-seeker",
   "metadata": {},
   "outputs": [],
   "source": [
    "def summation_of_integers(n):\n",
    "    summation = 0\n",
    "    for integer in range(n+1):\n",
    "        summation = summation + integer\n",
    "    return summation\n",
    "\n",
    "print(summation_of_integers(10))\n",
    "print(summation_of_integers(20))"
   ]
  }
 ],
 "metadata": {
  "jupytext": {
   "formats": "md:myst",
   "text_representation": {
    "extension": ".md",
    "format_name": "myst",
    "format_version": 0.13,
    "jupytext_version": "1.10.3"
   }
  },
  "kernelspec": {
   "display_name": "Python 3",
   "language": "python",
   "name": "python3"
  },
  "language_info": {
   "codemirror_mode": {
    "name": "ipython",
    "version": 3
   },
   "file_extension": ".py",
   "mimetype": "text/x-python",
   "name": "python",
   "nbconvert_exporter": "python",
   "pygments_lexer": "ipython3",
   "version": "3.9.5"
  },
  "source_map": [
   13,
   27,
   33,
   37,
   48,
   52,
   61,
   65,
   79,
   85,
   97,
   102,
   106,
   109,
   114,
   117,
   127,
   133,
   143,
   148,
   153,
   156,
   161,
   166,
   171,
   176,
   185,
   188,
   202,
   207,
   212,
   215,
   220,
   223,
   227,
   230,
   234,
   237,
   241,
   244,
   248,
   253,
   264,
   267,
   275,
   278
  ]
 },
 "nbformat": 4,
 "nbformat_minor": 5
}