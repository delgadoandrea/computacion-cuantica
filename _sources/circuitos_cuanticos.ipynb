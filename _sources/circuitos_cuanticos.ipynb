{
 "cells": [
  {
   "cell_type": "markdown",
   "id": "unsigned-place",
   "metadata": {},
   "source": [
    "(circuitos_cuanticos)=\n",
    "\n",
    "# Un Modelo Cuantico de Computacion\n",
    "\n",
    "Hasta ahora hemos discutido el proceso de codificacion de informacion en estados cuanticos, asi como algunas de las propiedades unicas de dicha informacion cuantica, tales como estados entrelazados y la medicion. En este capitulo, desarrollaremos los mecanismos basicos para el procesamiento de informacion cuantica. Dicho proceso es mediado por la transformacion de sistemas cuanticos. Para entender como funciona la computacion cuantica, debemos entender que tipo de transformaciones son permitidas por la naturaleza y cuales no.\n",
    "\n",
    "Toda transformacion en un sistema de *n-cubits* puede ser expresada como una secuencia de transformaciones en sistemas de uno o mas cubits. La eficiencia de una tranformacion cuantica es cuantificada en terminos del numero de compuertas utilizadas, como vamos a ver mas adelante.\n",
    "\n",
    "Los temas a abordar en este capitulo incluyen:\n",
    "\n",
    "- Transformaciones unitarias\n",
    "- Compuertas cuanticas aplicadas a un solo cubit\n",
    "- Compuertas cuanticas aplicadas a multiples cubits\n",
    "- Operaciones no-reversibles\n",
    "\n",
    "\n",
    "```{toctree}\n",
    ":hidden:\n",
    ":titlesonly:\n",
    "\n",
    "\n",
    "circuitos_cuanticos/transformaciones\n",
    "circuitos_cuanticos/circuitos\n",
    "circuitos_cuanticos/un_cubit\n",
    "circuitos_cuanticos/compuertas_control\n",
    "```"
   ]
  }
 ],
 "metadata": {
  "jupytext": {
   "text_representation": {
    "extension": ".md",
    "format_name": "myst"
   }
  },
  "kernelspec": {
   "display_name": "Python 3",
   "language": "python",
   "name": "python3"
  },
  "language_info": {
   "codemirror_mode": {
    "name": "ipython",
    "version": 3
   },
   "file_extension": ".py",
   "mimetype": "text/x-python",
   "name": "python",
   "nbconvert_exporter": "python",
   "pygments_lexer": "ipython3",
   "version": "3.9.5"
  },
  "source_map": [
   10
  ]
 },
 "nbformat": 4,
 "nbformat_minor": 5
}