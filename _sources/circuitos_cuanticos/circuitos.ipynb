{
 "cells": [
  {
   "cell_type": "markdown",
   "id": "advisory-bunny",
   "metadata": {},
   "source": [
    "(circuitos)=\n",
    "\n",
    "# El Modelo de Circuitos Cuanticos\n",
    "\n",
    "El modelo de computacion clasica de circuitos puede ser generalizado a un modelo de circuitos cuanticos. En este modelo, los qubits son transportados por cables y en su recorrido se encuentran con compuertas cuanticas que actuan sobre ellos, como en la siguiente figura. Los cables son las lineas horizontales y los cubits se propagan de izquierda a derecha en el tiempo. \n",
    "\n",
    "![circuito](../circuit.png)\n",
    "\n",
    "En este ejemplo el estado de 3 cubits entra en el circuito para ser procesado por las compuertas $H$, $X$ y $R_{y}$. Como salida del circuito tenemos el estado de 3 cubits. Se realiza una medicion cubit por cubit en la base computacional. Ahora que se han establecido los conceptos de unitariedad y reversibilidad de los operadores cuanticos, podemos empezar a discutir dichos operadores en terminos de compuertas cuanticas."
   ]
  }
 ],
 "metadata": {
  "jupytext": {
   "text_representation": {
    "extension": ".md",
    "format_name": "myst"
   }
  },
  "kernelspec": {
   "display_name": "Python 3",
   "language": "python",
   "name": "python3"
  },
  "language_info": {
   "codemirror_mode": {
    "name": "ipython",
    "version": 3
   },
   "file_extension": ".py",
   "mimetype": "text/x-python",
   "name": "python",
   "nbconvert_exporter": "python",
   "pygments_lexer": "ipython3",
   "version": "3.9.5"
  },
  "source_map": [
   10
  ]
 },
 "nbformat": 4,
 "nbformat_minor": 5
}