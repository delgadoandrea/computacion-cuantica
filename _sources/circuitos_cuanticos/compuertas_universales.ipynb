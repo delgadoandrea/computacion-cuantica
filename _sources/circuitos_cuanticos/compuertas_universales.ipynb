{
 "cells": [
  {
   "cell_type": "markdown",
   "id": "colored-union",
   "metadata": {},
   "source": [
    "(compuertas_universales)=\n",
    "\n",
    "# Compuertas Universales UX\n",
    "\n",
    "Las compuertas de **tipo universal** o **UX** se refieren al tipo de compuertas *universales* que permiten rotaciones sobre el espacio de Hilbert. Dependiendo del número de parametros que una compuerta de tipo *UX* tome  de argumento, dicha compuerta puede suponer una rotacion sobre uno o mas ejes x,y, o z en la esfera de Bloch.\n",
    "\n",
    "## Compuerta U3\n",
    "\n",
    "La compuerta **U3** requiere tres parametros que permiten la rotacion sobre los ejes x,y y z. La representacion de la compuerta U3 se define mediante la matriz:\n",
    "$\n",
    "U_{3(\\theta,\\phi,\\lambda)} = \n",
    "\\begin{pmatrix}\n",
    "cos\\frac{\\theta}{2} & -e^{i\\lambda}sin\\frac{\\theta}{2} \\\\\n",
    "e^{i\\phi}sin\\frac{\\theta}{2} & e^{i\\phi + \\lambda}cos\\frac{\\theta}{2}\n",
    "\\end{pmatrix}\n",
    "$\n",
    "\n",
    "En esta matriz, $\\theta$, $\\phi$ y $\\lambda$ representan los angulos de rotacion (en radianes) sobre el eje x, y y z, respectivamente. Para que el operador representado por la matriz U3 satisfaga las condiciones de unitariedad, dichos angulos deben estar confinados a los rangos $0 \\leq \\theta \\leq \\pi$, $0 \\leq \\phi \\leq 2\\pi$ y $0 \\leq \\lambda \\leq 2\\pi$. Las compuertas U2 y U1 representan subconjuntos de las compuertas U3. En realidasd, la compuerta U3 siempre es utilizada en el *backend* de Qiskit y cuando llamamos las compuertas U2 y U1, el parametro $\\theta$ se fija en el valor $\\pi/2$.\n",
    "\n",
    "\n",
    "## Compuerta U2\n",
    "La compuerta **U2** requiere dos parametros que corresponden a los parametros $\\phi$ y $\\lambda$ en la compuerta *U3*. La representacion de matrix de la compuerta U2 es la siguiente:\n",
    "\n",
    "$\n",
    "U_{2(\\phi,\\lambda)} = \\frac{1}{\\sqrt{2}}\n",
    "\\begin{pmatrix}\n",
    "1 & e^{-i\\lambda} \\\\\n",
    "e^{i\\phi} & e^{i(\\phi + \\lambda)}\n",
    "\\end{pmatrix}\n",
    "$\n",
    "\n",
    "## Compuerta U1\n",
    "La compuerta **U1** unicamente requiere un parametro y es aplicado mediante una rotacion sobre el eje z. Por lo tanto, la compuerta U1 tiene una representacion equivalente a la compuerta $R_{z}$:\n",
    "\n",
    "$\n",
    "U_{1(\\lambda)} = \n",
    "\\begin{pmatrix}\n",
    "1 & 0 \\\\\n",
    "0 & e^{\\lambda}\n",
    "\\end{pmatrix}\n",
    "$\n",
    "%$\n",
    "%U_{1(\\lambda)} = \n",
    "%\\begin{\\pmatrix}\n",
    "%1 & 0 \\\\\n",
    "%0 & e^{\\lambda}\n",
    "%\\end{pmatrix}\n",
    "%$\n",
    "\n",
    "El angulo $\\lambda$ aqui, corresponde a el angulo de rotacion en radianes sobre el eje z, y por lo tanto ejecuta una **rotacion de fase**."
   ]
  }
 ],
 "metadata": {
  "jupytext": {
   "text_representation": {
    "extension": ".md",
    "format_name": "myst"
   }
  },
  "kernelspec": {
   "display_name": "Python 3",
   "language": "python",
   "name": "python3"
  },
  "language_info": {
   "codemirror_mode": {
    "name": "ipython",
    "version": 3
   },
   "file_extension": ".py",
   "mimetype": "text/x-python",
   "name": "python",
   "nbconvert_exporter": "python",
   "pygments_lexer": "ipython3",
   "version": "3.9.5"
  },
  "source_map": [
   10
  ]
 },
 "nbformat": 4,
 "nbformat_minor": 5
}